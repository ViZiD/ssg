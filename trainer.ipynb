{
 "cells": [
  {
   "cell_type": "code",
   "execution_count": null,
   "metadata": {},
   "outputs": [],
   "source": [
    "import time\n",
    "import Featurizer\n",
    "import pycrfsuite\n",
    "from datetime import timedelta\n",
    "\n",
    "start = time.monotonic()\n",
    "n = 3\n",
    "f = Featurizer(N=n)\n",
    "sentences = [] # list of sentences\n",
    "print('Featurizing N=' + str(n) + '...')\n",
    "features, labels = f.sentences_to_features(sentences)\n",
    "trainer = pycrfsuite.Trainer(verbose=False)\n",
    "for xseq, yseq in zip(features, labels):\n",
    "    trainer.append(xseq, yseq)\n",
    "trainer.set_params({\n",
    "  'c1': 1.0,   # coefficient for L1 penalty\n",
    "  'c2': 1e-3,  # coefficient for L2 penalty\n",
    "  'max_iterations': 100,  # stop earlier\n",
    "  # include transitions that are possible, but not observed\n",
    "  'feature.possible_transitions': True\n",
    "})\n",
    "print('Training N=' + str(n) + '...')\n",
    "filename = \"whatever.crfsuite\"\n",
    "trainer.train(filename)\n",
    "print('Time: ' + str(timedelta(seconds=time.monotonic() - start)))"
   ]
  }
 ],
 "metadata": {
  "kernelspec": {
   "display_name": "Python 3",
   "language": "python",
   "name": "python3"
  },
  "language_info": {
   "codemirror_mode": {
    "name": "ipython",
    "version": 3
   },
   "file_extension": ".py",
   "mimetype": "text/x-python",
   "name": "python",
   "nbconvert_exporter": "python",
   "pygments_lexer": "ipython3",
   "version": "3.6.7"
  }
 },
 "nbformat": 4,
 "nbformat_minor": 2
}
